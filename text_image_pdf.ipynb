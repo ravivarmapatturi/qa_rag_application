{
 "cells": [
  {
   "cell_type": "code",
   "execution_count": 8,
   "metadata": {},
   "outputs": [
    {
     "name": "stdout",
     "output_type": "stream",
     "text": [
      "Collecting pdf2image\n",
      "  Downloading pdf2image-1.17.0-py3-none-any.whl.metadata (6.2 kB)\n",
      "Requirement already satisfied: pillow in /home/ravivarma/anaconda3/lib/python3.12/site-packages (from pdf2image) (10.4.0)\n",
      "Downloading pdf2image-1.17.0-py3-none-any.whl (11 kB)\n",
      "Installing collected packages: pdf2image\n",
      "Successfully installed pdf2image-1.17.0\n"
     ]
    }
   ],
   "source": [
    "!pip install pdf2image"
   ]
  },
  {
   "cell_type": "code",
   "execution_count": 2,
   "metadata": {},
   "outputs": [
    {
     "name": "stdout",
     "output_type": "stream",
     "text": [
      "1\n"
     ]
    }
   ],
   "source": [
    "import pdfplumber\n",
    "\n",
    "\n",
    "with pdfplumber.open(\"/home/ravivarma/Downloads/preplaced/session_5_tasks/miniproject/data/JK_Tyre_2023_24-pages-1_1-1.pdf\") as pdf:\n",
    "\n",
    "  print(len(pdf.pages))\n",
    "\n",
    "  for i in range(len(pdf.pages)):\n",
    "    page=pdf.pages[i]\n",
    "    # images = page.get_images()\n",
    "    # print(page.extract_text())\n",
    "\n",
    "\n",
    "    # for table in page.extract_tables():\n",
    "    #   for row in table:\n",
    "    #     print(row)\n",
    "\n",
    "\n",
    "    # for image in page.images():\n",
    "    #     print(image[\"page_number\"])\n",
    "    #     with open(f\"image_{image['page_number']}.jpg\", \"wb\") as f:\n",
    "    #         f.write(image[\"data\"])\n"
   ]
  },
  {
   "cell_type": "code",
   "execution_count": 12,
   "metadata": {},
   "outputs": [
    {
     "name": "stdout",
     "output_type": "stream",
     "text": [
      "no of pages in pdf : 1\n",
      "====================================================\n",
      "page no:0,Integrated Annual Report \n",
      "2023-24Towards sustainable growthExceleration\n"
     ]
    }
   ],
   "source": [
    "import PyPDF2\n",
    "\n",
    "with open(\"/home/ravivarma/Downloads/preplaced/session_5_tasks/miniproject/data/JK_Tyre_2023_24-pages-1_1-1.pdf\",\"rb\") as file:\n",
    "  reader=PyPDF2.PdfReader(file)\n",
    "\n",
    "  print(\"no of pages in pdf :\",len(reader.pages))\n",
    "\n",
    "  for i in range(len(reader.pages)):\n",
    "    print(\"====================================================\")\n",
    "    page=reader.pages[i]\n",
    "    print(f\"page no:{i},{page.extract_text()}\")\n",
    "\n",
    "    for img in page.images:\n",
    "      with open(f\"{img.name}\",\"wb\") as file:\n",
    "        file.write(img.data)\n"
   ]
  },
  {
   "cell_type": "code",
   "execution_count": 11,
   "metadata": {},
   "outputs": [
    {
     "name": "stdout",
     "output_type": "stream",
     "text": [
      "Collecting pypdf2\n",
      "  Downloading pypdf2-3.0.1-py3-none-any.whl.metadata (6.8 kB)\n",
      "Downloading pypdf2-3.0.1-py3-none-any.whl (232 kB)\n",
      "Installing collected packages: pypdf2\n",
      "Successfully installed pypdf2-3.0.1\n"
     ]
    }
   ],
   "source": [
    "!pip install pypdf2"
   ]
  },
  {
   "cell_type": "code",
   "execution_count": 2,
   "metadata": {},
   "outputs": [
    {
     "name": "stdout",
     "output_type": "stream",
     "text": [
      "Collecting pytesseract\n",
      "  Downloading pytesseract-0.3.13-py3-none-any.whl.metadata (11 kB)\n",
      "Requirement already satisfied: packaging>=21.3 in /home/ravivarma/anaconda3/lib/python3.12/site-packages (from pytesseract) (24.1)\n",
      "Requirement already satisfied: Pillow>=8.0.0 in /home/ravivarma/anaconda3/lib/python3.12/site-packages (from pytesseract) (10.4.0)\n",
      "Downloading pytesseract-0.3.13-py3-none-any.whl (14 kB)\n",
      "Installing collected packages: pytesseract\n",
      "Successfully installed pytesseract-0.3.13\n"
     ]
    }
   ],
   "source": [
    "!pip install pytesseract"
   ]
  },
  {
   "cell_type": "code",
   "execution_count": 20,
   "metadata": {},
   "outputs": [
    {
     "name": "stdout",
     "output_type": "stream",
     "text": [
      "There are 2 image/s on page number 1[+]\n"
     ]
    }
   ],
   "source": [
    "import fitz #the PyMuPDF module\n",
    "from PIL import Image\n",
    "import io\n",
    "\n",
    "\n",
    "filename = \"/home/ravivarma/Downloads/preplaced/session_5_tasks/miniproject/data/JK_Tyre_2023_24-pages-1_1-1.pdf\"\n",
    "# open file\n",
    "with fitz.open(filename) as my_pdf_file:\n",
    "\n",
    "    #loop through every page\n",
    "    for page_number in range(1, len(my_pdf_file)+1):\n",
    "\n",
    "        # acess individual page\n",
    "        page = my_pdf_file[page_number-1]\n",
    "\n",
    "        # accesses all images of the page\n",
    "        images = page.get_images()\n",
    "\n",
    "        # check if images are there\n",
    "        if images:\n",
    "            print(f\"There are {len(images)} image/s on page number {page_number}[+]\")\n",
    "        else:\n",
    "            print(f\"There are No image/s on page number {page_number}[!]\")\n",
    "\n",
    "        # loop through all images present in the page \n",
    "        for image_number, image in enumerate(page.get_images(), start=1):\n",
    "\n",
    "            #access image xerf\n",
    "            xref_value = image[0]\n",
    "            \n",
    "            #extract image information\n",
    "            base_image = my_pdf_file.extract_image(xref_value)\n",
    "\n",
    "            # access the image itself\n",
    "            image_bytes = base_image[\"image\"]\n",
    "\n",
    "            #get image extension\n",
    "            ext = base_image[\"ext\"]\n",
    "\n",
    "            #load image\n",
    "            image = Image.open(io.BytesIO(image_bytes))\n",
    "\n",
    "            #save image locally\n",
    "            image.save(open(f\"Page{page_number}Image{image_number}.{ext}\", \"wb\"))"
   ]
  },
  {
   "cell_type": "code",
   "execution_count": 28,
   "metadata": {},
   "outputs": [
    {
     "name": "stdout",
     "output_type": "stream",
     "text": [
      " \n",
      "\f\n"
     ]
    }
   ],
   "source": [
    "import pytesseract\n",
    "from PIL import Image\n",
    "import cv2\n",
    "import numpy as np\n",
    "\n",
    "# Load the image\n",
    "image_path = '/home/ravivarma/Downloads/preplaced/session_5_tasks/miniproject/Page1Image2.jpeg'\n",
    "image = cv2.imread(image_path)\n",
    "\n",
    "# Preprocess the image\n",
    "gray_image = cv2.cvtColor(image, cv2.COLOR_BGR2GRAY)\n",
    "denoised_image = cv2.fastNlMeansDenoising(gray_image)\n",
    "_, binary_image = cv2.threshold(denoised_image, 0, 255, cv2.THRESH_BINARY + cv2.THRESH_OTSU)\n",
    "\n",
    "# Perform OCR\n",
    "text = pytesseract.image_to_string(binary_image)\n",
    "\n",
    "# Print the extracted text\n",
    "print(text)"
   ]
  },
  {
   "cell_type": "code",
   "execution_count": 24,
   "metadata": {},
   "outputs": [
    {
     "name": "stdout",
     "output_type": "stream",
     "text": [
      "Requirement already satisfied: pytesseract in /home/ravivarma/anaconda3/lib/python3.12/site-packages (0.3.13)\n",
      "Requirement already satisfied: packaging>=21.3 in /home/ravivarma/anaconda3/lib/python3.12/site-packages (from pytesseract) (24.1)\n",
      "Requirement already satisfied: Pillow>=8.0.0 in /home/ravivarma/anaconda3/lib/python3.12/site-packages (from pytesseract) (10.4.0)\n"
     ]
    }
   ],
   "source": [
    "!pip install pytesseract"
   ]
  },
  {
   "cell_type": "code",
   "execution_count": 29,
   "metadata": {},
   "outputs": [
    {
     "name": "stdout",
     "output_type": "stream",
     "text": [
      "Requirement already satisfied: easyocr in /home/ravivarma/anaconda3/lib/python3.12/site-packages (1.7.1)\n",
      "Requirement already satisfied: torch in /home/ravivarma/anaconda3/lib/python3.12/site-packages (from easyocr) (2.5.1)\n",
      "Requirement already satisfied: torchvision>=0.5 in /home/ravivarma/anaconda3/lib/python3.12/site-packages (from easyocr) (0.20.1)\n",
      "Requirement already satisfied: opencv-python-headless in /home/ravivarma/anaconda3/lib/python3.12/site-packages (from easyocr) (4.10.0.84)\n",
      "Requirement already satisfied: scipy in /home/ravivarma/anaconda3/lib/python3.12/site-packages (from easyocr) (1.13.1)\n",
      "Requirement already satisfied: numpy in /home/ravivarma/anaconda3/lib/python3.12/site-packages (from easyocr) (1.26.4)\n",
      "Requirement already satisfied: Pillow in /home/ravivarma/anaconda3/lib/python3.12/site-packages (from easyocr) (10.4.0)\n",
      "Requirement already satisfied: scikit-image in /home/ravivarma/anaconda3/lib/python3.12/site-packages (from easyocr) (0.24.0)\n",
      "Requirement already satisfied: python-bidi in /home/ravivarma/anaconda3/lib/python3.12/site-packages (from easyocr) (0.6.3)\n",
      "Requirement already satisfied: PyYAML in /home/ravivarma/anaconda3/lib/python3.12/site-packages (from easyocr) (6.0.1)\n",
      "Requirement already satisfied: Shapely in /home/ravivarma/anaconda3/lib/python3.12/site-packages (from easyocr) (2.0.6)\n",
      "Requirement already satisfied: pyclipper in /home/ravivarma/anaconda3/lib/python3.12/site-packages (from easyocr) (1.3.0.post6)\n",
      "Requirement already satisfied: ninja in /home/ravivarma/anaconda3/lib/python3.12/site-packages (from easyocr) (1.11.1.3)\n",
      "Requirement already satisfied: filelock in /home/ravivarma/anaconda3/lib/python3.12/site-packages (from torch->easyocr) (3.13.1)\n",
      "Requirement already satisfied: typing-extensions>=4.8.0 in /home/ravivarma/anaconda3/lib/python3.12/site-packages (from torch->easyocr) (4.12.2)\n",
      "Requirement already satisfied: networkx in /home/ravivarma/anaconda3/lib/python3.12/site-packages (from torch->easyocr) (3.3)\n",
      "Requirement already satisfied: jinja2 in /home/ravivarma/anaconda3/lib/python3.12/site-packages (from torch->easyocr) (3.1.4)\n",
      "Requirement already satisfied: fsspec in /home/ravivarma/anaconda3/lib/python3.12/site-packages (from torch->easyocr) (2024.6.1)\n",
      "Requirement already satisfied: nvidia-cuda-nvrtc-cu12==12.4.127 in /home/ravivarma/anaconda3/lib/python3.12/site-packages (from torch->easyocr) (12.4.127)\n",
      "Requirement already satisfied: nvidia-cuda-runtime-cu12==12.4.127 in /home/ravivarma/anaconda3/lib/python3.12/site-packages (from torch->easyocr) (12.4.127)\n",
      "Requirement already satisfied: nvidia-cuda-cupti-cu12==12.4.127 in /home/ravivarma/anaconda3/lib/python3.12/site-packages (from torch->easyocr) (12.4.127)\n",
      "Requirement already satisfied: nvidia-cudnn-cu12==9.1.0.70 in /home/ravivarma/anaconda3/lib/python3.12/site-packages (from torch->easyocr) (9.1.0.70)\n",
      "Requirement already satisfied: nvidia-cublas-cu12==12.4.5.8 in /home/ravivarma/anaconda3/lib/python3.12/site-packages (from torch->easyocr) (12.4.5.8)\n",
      "Requirement already satisfied: nvidia-cufft-cu12==11.2.1.3 in /home/ravivarma/anaconda3/lib/python3.12/site-packages (from torch->easyocr) (11.2.1.3)\n",
      "Requirement already satisfied: nvidia-curand-cu12==10.3.5.147 in /home/ravivarma/anaconda3/lib/python3.12/site-packages (from torch->easyocr) (10.3.5.147)\n",
      "Requirement already satisfied: nvidia-cusolver-cu12==11.6.1.9 in /home/ravivarma/anaconda3/lib/python3.12/site-packages (from torch->easyocr) (11.6.1.9)\n",
      "Requirement already satisfied: nvidia-cusparse-cu12==12.3.1.170 in /home/ravivarma/anaconda3/lib/python3.12/site-packages (from torch->easyocr) (12.3.1.170)\n",
      "Requirement already satisfied: nvidia-nccl-cu12==2.21.5 in /home/ravivarma/anaconda3/lib/python3.12/site-packages (from torch->easyocr) (2.21.5)\n",
      "Requirement already satisfied: nvidia-nvtx-cu12==12.4.127 in /home/ravivarma/anaconda3/lib/python3.12/site-packages (from torch->easyocr) (12.4.127)\n",
      "Requirement already satisfied: nvidia-nvjitlink-cu12==12.4.127 in /home/ravivarma/anaconda3/lib/python3.12/site-packages (from torch->easyocr) (12.4.127)\n",
      "Requirement already satisfied: triton==3.1.0 in /home/ravivarma/anaconda3/lib/python3.12/site-packages (from torch->easyocr) (3.1.0)\n",
      "Requirement already satisfied: setuptools in /home/ravivarma/anaconda3/lib/python3.12/site-packages (from torch->easyocr) (75.1.0)\n",
      "Requirement already satisfied: sympy==1.13.1 in /home/ravivarma/anaconda3/lib/python3.12/site-packages (from torch->easyocr) (1.13.1)\n",
      "Requirement already satisfied: mpmath<1.4,>=1.1.0 in /home/ravivarma/anaconda3/lib/python3.12/site-packages (from sympy==1.13.1->torch->easyocr) (1.3.0)\n",
      "Requirement already satisfied: imageio>=2.33 in /home/ravivarma/anaconda3/lib/python3.12/site-packages (from scikit-image->easyocr) (2.33.1)\n",
      "Requirement already satisfied: tifffile>=2022.8.12 in /home/ravivarma/anaconda3/lib/python3.12/site-packages (from scikit-image->easyocr) (2023.4.12)\n",
      "Requirement already satisfied: packaging>=21 in /home/ravivarma/anaconda3/lib/python3.12/site-packages (from scikit-image->easyocr) (24.1)\n",
      "Requirement already satisfied: lazy-loader>=0.4 in /home/ravivarma/anaconda3/lib/python3.12/site-packages (from scikit-image->easyocr) (0.4)\n",
      "Requirement already satisfied: MarkupSafe>=2.0 in /home/ravivarma/anaconda3/lib/python3.12/site-packages (from jinja2->torch->easyocr) (2.1.3)\n"
     ]
    }
   ],
   "source": [
    "!pip install easyocr"
   ]
  },
  {
   "cell_type": "code",
   "execution_count": 3,
   "metadata": {},
   "outputs": [
    {
     "name": "stderr",
     "output_type": "stream",
     "text": [
      "Neither CUDA nor MPS are available - defaulting to CPU. Note: This module is much faster with a GPU.\n"
     ]
    },
    {
     "name": "stdout",
     "output_type": "stream",
     "text": [
      "['JKrye', 'LEVIIAS', 'UlTRA']\n"
     ]
    }
   ],
   "source": [
    "import easyocr\n",
    "reader = easyocr.Reader(['en'])\n",
    "text = reader.readtext(\"/home/ravivarma/Downloads/preplaced/session_5_tasks/miniproject/Page1Image2.jpeg\", detail=0)\n",
    "print(text)\n"
   ]
  }
 ],
 "metadata": {
  "kernelspec": {
   "display_name": "base",
   "language": "python",
   "name": "python3"
  },
  "language_info": {
   "codemirror_mode": {
    "name": "ipython",
    "version": 3
   },
   "file_extension": ".py",
   "mimetype": "text/x-python",
   "name": "python",
   "nbconvert_exporter": "python",
   "pygments_lexer": "ipython3",
   "version": "3.12.7"
  }
 },
 "nbformat": 4,
 "nbformat_minor": 2
}
